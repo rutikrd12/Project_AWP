{
 "cells": [
  {
   "cell_type": "code",
   "execution_count": 1,
   "id": "cc4dbf00",
   "metadata": {
    "papermill": {
     "duration": 1.129457,
     "end_time": "2021-12-28T15:04:56.386595",
     "exception": false,
     "start_time": "2021-12-28T15:04:55.257138",
     "status": "completed"
    },
    "tags": []
   },
   "outputs": [],
   "source": [
    "# Importing Libraries\n",
    "import numpy as np \n",
    "import pandas as pd\n",
    "import matplotlib.pyplot as plt\n",
    "import seaborn as sns\n",
    "%matplotlib inline"
   ]
  },
  {
   "cell_type": "markdown",
   "id": "f2dbc4ad",
   "metadata": {
    "papermill": {
     "duration": 0.029404,
     "end_time": "2021-12-28T15:04:56.446428",
     "exception": false,
     "start_time": "2021-12-28T15:04:56.417024",
     "status": "completed"
    },
    "tags": []
   },
   "source": [
    " # Data Preprocessing and EDA of Ipl DataSet"
   ]
  },
  {
   "cell_type": "code",
   "execution_count": 2,
   "id": "fea679a3",
   "metadata": {
    "papermill": {
     "duration": 0.054947,
     "end_time": "2021-12-28T15:04:56.531833",
     "exception": false,
     "start_time": "2021-12-28T15:04:56.476886",
     "status": "completed"
    },
    "tags": []
   },
   "outputs": [],
   "source": [
    "df=pd.read_csv('matches.csv')"
   ]
  },
  {
   "cell_type": "code",
   "execution_count": 3,
   "id": "3b82aa37",
   "metadata": {
    "papermill": {
     "duration": 0.061514,
     "end_time": "2021-12-28T15:04:56.683402",
     "exception": false,
     "start_time": "2021-12-28T15:04:56.621888",
     "status": "completed"
    },
    "tags": []
   },
   "outputs": [
    {
     "data": {
      "text/html": [
       "<div>\n",
       "<style scoped>\n",
       "    .dataframe tbody tr th:only-of-type {\n",
       "        vertical-align: middle;\n",
       "    }\n",
       "\n",
       "    .dataframe tbody tr th {\n",
       "        vertical-align: top;\n",
       "    }\n",
       "\n",
       "    .dataframe thead th {\n",
       "        text-align: right;\n",
       "    }\n",
       "</style>\n",
       "<table border=\"1\" class=\"dataframe\">\n",
       "  <thead>\n",
       "    <tr style=\"text-align: right;\">\n",
       "      <th></th>\n",
       "      <th>id</th>\n",
       "      <th>Season</th>\n",
       "      <th>city</th>\n",
       "      <th>date</th>\n",
       "      <th>team1</th>\n",
       "      <th>team2</th>\n",
       "      <th>toss_winner</th>\n",
       "      <th>toss_decision</th>\n",
       "      <th>result</th>\n",
       "      <th>dl_applied</th>\n",
       "      <th>winner</th>\n",
       "      <th>win_by_runs</th>\n",
       "      <th>win_by_wickets</th>\n",
       "      <th>player_of_match</th>\n",
       "      <th>venue</th>\n",
       "      <th>umpire1</th>\n",
       "      <th>umpire2</th>\n",
       "      <th>umpire3</th>\n",
       "    </tr>\n",
       "  </thead>\n",
       "  <tbody>\n",
       "    <tr>\n",
       "      <th>0</th>\n",
       "      <td>1</td>\n",
       "      <td>IPL-2017</td>\n",
       "      <td>Hyderabad</td>\n",
       "      <td>05-04-2017</td>\n",
       "      <td>Sunrisers Hyderabad</td>\n",
       "      <td>Royal Challengers Bangalore</td>\n",
       "      <td>Royal Challengers Bangalore</td>\n",
       "      <td>field</td>\n",
       "      <td>normal</td>\n",
       "      <td>0</td>\n",
       "      <td>Sunrisers Hyderabad</td>\n",
       "      <td>35</td>\n",
       "      <td>0</td>\n",
       "      <td>Yuvraj Singh</td>\n",
       "      <td>Rajiv Gandhi International Stadium, Uppal</td>\n",
       "      <td>AY Dandekar</td>\n",
       "      <td>NJ Llong</td>\n",
       "      <td>NaN</td>\n",
       "    </tr>\n",
       "    <tr>\n",
       "      <th>1</th>\n",
       "      <td>2</td>\n",
       "      <td>IPL-2017</td>\n",
       "      <td>Pune</td>\n",
       "      <td>06-04-2017</td>\n",
       "      <td>Mumbai Indians</td>\n",
       "      <td>Rising Pune Supergiant</td>\n",
       "      <td>Rising Pune Supergiant</td>\n",
       "      <td>field</td>\n",
       "      <td>normal</td>\n",
       "      <td>0</td>\n",
       "      <td>Rising Pune Supergiant</td>\n",
       "      <td>0</td>\n",
       "      <td>7</td>\n",
       "      <td>SPD Smith</td>\n",
       "      <td>Maharashtra Cricket Association Stadium</td>\n",
       "      <td>A Nand Kishore</td>\n",
       "      <td>S Ravi</td>\n",
       "      <td>NaN</td>\n",
       "    </tr>\n",
       "    <tr>\n",
       "      <th>2</th>\n",
       "      <td>3</td>\n",
       "      <td>IPL-2017</td>\n",
       "      <td>Rajkot</td>\n",
       "      <td>07-04-2017</td>\n",
       "      <td>Gujarat Lions</td>\n",
       "      <td>Kolkata Knight Riders</td>\n",
       "      <td>Kolkata Knight Riders</td>\n",
       "      <td>field</td>\n",
       "      <td>normal</td>\n",
       "      <td>0</td>\n",
       "      <td>Kolkata Knight Riders</td>\n",
       "      <td>0</td>\n",
       "      <td>10</td>\n",
       "      <td>CA Lynn</td>\n",
       "      <td>Saurashtra Cricket Association Stadium</td>\n",
       "      <td>Nitin Menon</td>\n",
       "      <td>CK Nandan</td>\n",
       "      <td>NaN</td>\n",
       "    </tr>\n",
       "    <tr>\n",
       "      <th>3</th>\n",
       "      <td>4</td>\n",
       "      <td>IPL-2017</td>\n",
       "      <td>Indore</td>\n",
       "      <td>08-04-2017</td>\n",
       "      <td>Rising Pune Supergiant</td>\n",
       "      <td>Kings XI Punjab</td>\n",
       "      <td>Kings XI Punjab</td>\n",
       "      <td>field</td>\n",
       "      <td>normal</td>\n",
       "      <td>0</td>\n",
       "      <td>Kings XI Punjab</td>\n",
       "      <td>0</td>\n",
       "      <td>6</td>\n",
       "      <td>GJ Maxwell</td>\n",
       "      <td>Holkar Cricket Stadium</td>\n",
       "      <td>AK Chaudhary</td>\n",
       "      <td>C Shamshuddin</td>\n",
       "      <td>NaN</td>\n",
       "    </tr>\n",
       "    <tr>\n",
       "      <th>4</th>\n",
       "      <td>5</td>\n",
       "      <td>IPL-2017</td>\n",
       "      <td>Bangalore</td>\n",
       "      <td>08-04-2017</td>\n",
       "      <td>Royal Challengers Bangalore</td>\n",
       "      <td>Delhi Daredevils</td>\n",
       "      <td>Royal Challengers Bangalore</td>\n",
       "      <td>bat</td>\n",
       "      <td>normal</td>\n",
       "      <td>0</td>\n",
       "      <td>Royal Challengers Bangalore</td>\n",
       "      <td>15</td>\n",
       "      <td>0</td>\n",
       "      <td>KM Jadhav</td>\n",
       "      <td>M Chinnaswamy Stadium</td>\n",
       "      <td>NaN</td>\n",
       "      <td>NaN</td>\n",
       "      <td>NaN</td>\n",
       "    </tr>\n",
       "  </tbody>\n",
       "</table>\n",
       "</div>"
      ],
      "text/plain": [
       "   id    Season       city        date                        team1  \\\n",
       "0   1  IPL-2017  Hyderabad  05-04-2017          Sunrisers Hyderabad   \n",
       "1   2  IPL-2017       Pune  06-04-2017               Mumbai Indians   \n",
       "2   3  IPL-2017     Rajkot  07-04-2017                Gujarat Lions   \n",
       "3   4  IPL-2017     Indore  08-04-2017       Rising Pune Supergiant   \n",
       "4   5  IPL-2017  Bangalore  08-04-2017  Royal Challengers Bangalore   \n",
       "\n",
       "                         team2                  toss_winner toss_decision  \\\n",
       "0  Royal Challengers Bangalore  Royal Challengers Bangalore         field   \n",
       "1       Rising Pune Supergiant       Rising Pune Supergiant         field   \n",
       "2        Kolkata Knight Riders        Kolkata Knight Riders         field   \n",
       "3              Kings XI Punjab              Kings XI Punjab         field   \n",
       "4             Delhi Daredevils  Royal Challengers Bangalore           bat   \n",
       "\n",
       "   result  dl_applied                       winner  win_by_runs  \\\n",
       "0  normal           0          Sunrisers Hyderabad           35   \n",
       "1  normal           0       Rising Pune Supergiant            0   \n",
       "2  normal           0        Kolkata Knight Riders            0   \n",
       "3  normal           0              Kings XI Punjab            0   \n",
       "4  normal           0  Royal Challengers Bangalore           15   \n",
       "\n",
       "   win_by_wickets player_of_match                                      venue  \\\n",
       "0               0    Yuvraj Singh  Rajiv Gandhi International Stadium, Uppal   \n",
       "1               7       SPD Smith    Maharashtra Cricket Association Stadium   \n",
       "2              10         CA Lynn     Saurashtra Cricket Association Stadium   \n",
       "3               6      GJ Maxwell                     Holkar Cricket Stadium   \n",
       "4               0       KM Jadhav                      M Chinnaswamy Stadium   \n",
       "\n",
       "          umpire1        umpire2 umpire3  \n",
       "0     AY Dandekar       NJ Llong     NaN  \n",
       "1  A Nand Kishore         S Ravi     NaN  \n",
       "2     Nitin Menon      CK Nandan     NaN  \n",
       "3    AK Chaudhary  C Shamshuddin     NaN  \n",
       "4             NaN            NaN     NaN  "
      ]
     },
     "execution_count": 3,
     "metadata": {},
     "output_type": "execute_result"
    }
   ],
   "source": [
    "df.head()"
   ]
  },
  {
   "cell_type": "code",
   "execution_count": 4,
   "id": "bc054f59",
   "metadata": {
    "papermill": {
     "duration": 0.055063,
     "end_time": "2021-12-28T15:04:56.831295",
     "exception": false,
     "start_time": "2021-12-28T15:04:56.776232",
     "status": "completed"
    },
    "tags": []
   },
   "outputs": [
    {
     "data": {
      "text/html": [
       "<div>\n",
       "<style scoped>\n",
       "    .dataframe tbody tr th:only-of-type {\n",
       "        vertical-align: middle;\n",
       "    }\n",
       "\n",
       "    .dataframe tbody tr th {\n",
       "        vertical-align: top;\n",
       "    }\n",
       "\n",
       "    .dataframe thead th {\n",
       "        text-align: right;\n",
       "    }\n",
       "</style>\n",
       "<table border=\"1\" class=\"dataframe\">\n",
       "  <thead>\n",
       "    <tr style=\"text-align: right;\">\n",
       "      <th></th>\n",
       "      <th>id</th>\n",
       "      <th>Season</th>\n",
       "      <th>city</th>\n",
       "      <th>date</th>\n",
       "      <th>team1</th>\n",
       "      <th>team2</th>\n",
       "      <th>toss_winner</th>\n",
       "      <th>toss_decision</th>\n",
       "      <th>result</th>\n",
       "      <th>dl_applied</th>\n",
       "      <th>winner</th>\n",
       "      <th>win_by_runs</th>\n",
       "      <th>win_by_wickets</th>\n",
       "      <th>player_of_match</th>\n",
       "      <th>venue</th>\n",
       "      <th>umpire1</th>\n",
       "      <th>umpire2</th>\n",
       "      <th>umpire3</th>\n",
       "    </tr>\n",
       "  </thead>\n",
       "  <tbody>\n",
       "    <tr>\n",
       "      <th>751</th>\n",
       "      <td>11347</td>\n",
       "      <td>IPL-2019</td>\n",
       "      <td>Mumbai</td>\n",
       "      <td>05-05-2019</td>\n",
       "      <td>Kolkata Knight Riders</td>\n",
       "      <td>Mumbai Indians</td>\n",
       "      <td>Mumbai Indians</td>\n",
       "      <td>field</td>\n",
       "      <td>normal</td>\n",
       "      <td>0</td>\n",
       "      <td>Mumbai Indians</td>\n",
       "      <td>0</td>\n",
       "      <td>9</td>\n",
       "      <td>HH Pandya</td>\n",
       "      <td>Wankhede Stadium</td>\n",
       "      <td>Nanda Kishore</td>\n",
       "      <td>O Nandan</td>\n",
       "      <td>S Ravi</td>\n",
       "    </tr>\n",
       "    <tr>\n",
       "      <th>752</th>\n",
       "      <td>11412</td>\n",
       "      <td>IPL-2019</td>\n",
       "      <td>Chennai</td>\n",
       "      <td>07-05-2019</td>\n",
       "      <td>Chennai Super Kings</td>\n",
       "      <td>Mumbai Indians</td>\n",
       "      <td>Chennai Super Kings</td>\n",
       "      <td>bat</td>\n",
       "      <td>normal</td>\n",
       "      <td>0</td>\n",
       "      <td>Mumbai Indians</td>\n",
       "      <td>0</td>\n",
       "      <td>6</td>\n",
       "      <td>AS Yadav</td>\n",
       "      <td>M. A. Chidambaram Stadium</td>\n",
       "      <td>Nigel Llong</td>\n",
       "      <td>Nitin Menon</td>\n",
       "      <td>Ian Gould</td>\n",
       "    </tr>\n",
       "    <tr>\n",
       "      <th>753</th>\n",
       "      <td>11413</td>\n",
       "      <td>IPL-2019</td>\n",
       "      <td>Visakhapatnam</td>\n",
       "      <td>08-05-2019</td>\n",
       "      <td>Sunrisers Hyderabad</td>\n",
       "      <td>Delhi Capitals</td>\n",
       "      <td>Delhi Capitals</td>\n",
       "      <td>field</td>\n",
       "      <td>normal</td>\n",
       "      <td>0</td>\n",
       "      <td>Delhi Capitals</td>\n",
       "      <td>0</td>\n",
       "      <td>2</td>\n",
       "      <td>RR Pant</td>\n",
       "      <td>ACA-VDCA Stadium</td>\n",
       "      <td>NaN</td>\n",
       "      <td>NaN</td>\n",
       "      <td>NaN</td>\n",
       "    </tr>\n",
       "    <tr>\n",
       "      <th>754</th>\n",
       "      <td>11414</td>\n",
       "      <td>IPL-2019</td>\n",
       "      <td>Visakhapatnam</td>\n",
       "      <td>10-05-2019</td>\n",
       "      <td>Delhi Capitals</td>\n",
       "      <td>Chennai Super Kings</td>\n",
       "      <td>Chennai Super Kings</td>\n",
       "      <td>field</td>\n",
       "      <td>normal</td>\n",
       "      <td>0</td>\n",
       "      <td>Chennai Super Kings</td>\n",
       "      <td>0</td>\n",
       "      <td>6</td>\n",
       "      <td>F du Plessis</td>\n",
       "      <td>ACA-VDCA Stadium</td>\n",
       "      <td>Sundaram Ravi</td>\n",
       "      <td>Bruce Oxenford</td>\n",
       "      <td>Chettithody Shamshuddin</td>\n",
       "    </tr>\n",
       "    <tr>\n",
       "      <th>755</th>\n",
       "      <td>11415</td>\n",
       "      <td>IPL-2019</td>\n",
       "      <td>Hyderabad</td>\n",
       "      <td>12-05-2019</td>\n",
       "      <td>Mumbai Indians</td>\n",
       "      <td>Chennai Super Kings</td>\n",
       "      <td>Mumbai Indians</td>\n",
       "      <td>bat</td>\n",
       "      <td>normal</td>\n",
       "      <td>0</td>\n",
       "      <td>Mumbai Indians</td>\n",
       "      <td>1</td>\n",
       "      <td>0</td>\n",
       "      <td>JJ Bumrah</td>\n",
       "      <td>Rajiv Gandhi Intl. Cricket Stadium</td>\n",
       "      <td>Nitin Menon</td>\n",
       "      <td>Ian Gould</td>\n",
       "      <td>Nigel Llong</td>\n",
       "    </tr>\n",
       "  </tbody>\n",
       "</table>\n",
       "</div>"
      ],
      "text/plain": [
       "        id    Season           city        date                  team1  \\\n",
       "751  11347  IPL-2019         Mumbai  05-05-2019  Kolkata Knight Riders   \n",
       "752  11412  IPL-2019        Chennai  07-05-2019    Chennai Super Kings   \n",
       "753  11413  IPL-2019  Visakhapatnam  08-05-2019    Sunrisers Hyderabad   \n",
       "754  11414  IPL-2019  Visakhapatnam  10-05-2019         Delhi Capitals   \n",
       "755  11415  IPL-2019      Hyderabad  12-05-2019         Mumbai Indians   \n",
       "\n",
       "                   team2          toss_winner toss_decision  result  \\\n",
       "751       Mumbai Indians       Mumbai Indians         field  normal   \n",
       "752       Mumbai Indians  Chennai Super Kings           bat  normal   \n",
       "753       Delhi Capitals       Delhi Capitals         field  normal   \n",
       "754  Chennai Super Kings  Chennai Super Kings         field  normal   \n",
       "755  Chennai Super Kings       Mumbai Indians           bat  normal   \n",
       "\n",
       "     dl_applied               winner  win_by_runs  win_by_wickets  \\\n",
       "751           0       Mumbai Indians            0               9   \n",
       "752           0       Mumbai Indians            0               6   \n",
       "753           0       Delhi Capitals            0               2   \n",
       "754           0  Chennai Super Kings            0               6   \n",
       "755           0       Mumbai Indians            1               0   \n",
       "\n",
       "    player_of_match                               venue        umpire1  \\\n",
       "751       HH Pandya                    Wankhede Stadium  Nanda Kishore   \n",
       "752        AS Yadav           M. A. Chidambaram Stadium    Nigel Llong   \n",
       "753         RR Pant                    ACA-VDCA Stadium            NaN   \n",
       "754    F du Plessis                    ACA-VDCA Stadium  Sundaram Ravi   \n",
       "755       JJ Bumrah  Rajiv Gandhi Intl. Cricket Stadium    Nitin Menon   \n",
       "\n",
       "            umpire2                  umpire3  \n",
       "751        O Nandan                   S Ravi  \n",
       "752     Nitin Menon                Ian Gould  \n",
       "753             NaN                      NaN  \n",
       "754  Bruce Oxenford  Chettithody Shamshuddin  \n",
       "755       Ian Gould              Nigel Llong  "
      ]
     },
     "execution_count": 4,
     "metadata": {},
     "output_type": "execute_result"
    }
   ],
   "source": [
    "df.tail()"
   ]
  },
  {
   "cell_type": "markdown",
   "id": "0718ee1d",
   "metadata": {
    "papermill": {
     "duration": 0.032349,
     "end_time": "2021-12-28T15:04:56.894848",
     "exception": false,
     "start_time": "2021-12-28T15:04:56.862499",
     "status": "completed"
    },
    "tags": []
   },
   "source": [
    "- **Assessment of Data**"
   ]
  },
  {
   "cell_type": "code",
   "execution_count": 5,
   "id": "ab69910c",
   "metadata": {
    "papermill": {
     "duration": 0.039926,
     "end_time": "2021-12-28T15:04:56.966273",
     "exception": false,
     "start_time": "2021-12-28T15:04:56.926347",
     "status": "completed"
    },
    "tags": []
   },
   "outputs": [
    {
     "data": {
      "text/plain": [
       "(756, 18)"
      ]
     },
     "execution_count": 5,
     "metadata": {},
     "output_type": "execute_result"
    }
   ],
   "source": [
    "# Checking rows and columns\n",
    "df.shape"
   ]
  },
  {
   "cell_type": "code",
   "execution_count": 6,
   "id": "15f1506c",
   "metadata": {
    "papermill": {
     "duration": 0.059786,
     "end_time": "2021-12-28T15:04:57.057313",
     "exception": false,
     "start_time": "2021-12-28T15:04:56.997527",
     "status": "completed"
    },
    "tags": []
   },
   "outputs": [
    {
     "name": "stdout",
     "output_type": "stream",
     "text": [
      "<class 'pandas.core.frame.DataFrame'>\n",
      "RangeIndex: 756 entries, 0 to 755\n",
      "Data columns (total 18 columns):\n",
      " #   Column           Non-Null Count  Dtype \n",
      "---  ------           --------------  ----- \n",
      " 0   id               756 non-null    int64 \n",
      " 1   Season           756 non-null    object\n",
      " 2   city             749 non-null    object\n",
      " 3   date             756 non-null    object\n",
      " 4   team1            756 non-null    object\n",
      " 5   team2            756 non-null    object\n",
      " 6   toss_winner      756 non-null    object\n",
      " 7   toss_decision    756 non-null    object\n",
      " 8   result           756 non-null    object\n",
      " 9   dl_applied       756 non-null    int64 \n",
      " 10  winner           752 non-null    object\n",
      " 11  win_by_runs      756 non-null    int64 \n",
      " 12  win_by_wickets   756 non-null    int64 \n",
      " 13  player_of_match  752 non-null    object\n",
      " 14  venue            756 non-null    object\n",
      " 15  umpire1          754 non-null    object\n",
      " 16  umpire2          754 non-null    object\n",
      " 17  umpire3          119 non-null    object\n",
      "dtypes: int64(4), object(14)\n",
      "memory usage: 106.4+ KB\n"
     ]
    }
   ],
   "source": [
    "# Checking information od data\n",
    "df.info()"
   ]
  },
  {
   "cell_type": "code",
   "execution_count": 7,
   "id": "17c72ac1",
   "metadata": {
    "papermill": {
     "duration": 0.042832,
     "end_time": "2021-12-28T15:04:57.132533",
     "exception": false,
     "start_time": "2021-12-28T15:04:57.089701",
     "status": "completed"
    },
    "tags": []
   },
   "outputs": [],
   "source": [
    "# Changing dtype \n",
    "df['toss_decision']=df['toss_decision'].astype('category')\n",
    "df['result']=df['result'].astype('category')"
   ]
  },
  {
   "cell_type": "code",
   "execution_count": 8,
   "id": "36ad57ff",
   "metadata": {
    "papermill": {
     "duration": 0.047061,
     "end_time": "2021-12-28T15:04:57.817662",
     "exception": false,
     "start_time": "2021-12-28T15:04:57.770601",
     "status": "completed"
    },
    "tags": []
   },
   "outputs": [
    {
     "data": {
      "text/plain": [
       "id                   0\n",
       "Season               0\n",
       "city                 7\n",
       "date                 0\n",
       "team1                0\n",
       "team2                0\n",
       "toss_winner          0\n",
       "toss_decision        0\n",
       "result               0\n",
       "dl_applied           0\n",
       "winner               4\n",
       "win_by_runs          0\n",
       "win_by_wickets       0\n",
       "player_of_match      4\n",
       "venue                0\n",
       "umpire1              2\n",
       "umpire2              2\n",
       "umpire3            637\n",
       "dtype: int64"
      ]
     },
     "execution_count": 8,
     "metadata": {},
     "output_type": "execute_result"
    }
   ],
   "source": [
    "df.isnull().sum()"
   ]
  },
  {
   "cell_type": "code",
   "execution_count": 9,
   "id": "9e24f1a4",
   "metadata": {},
   "outputs": [
    {
     "data": {
      "text/html": [
       "<div>\n",
       "<style scoped>\n",
       "    .dataframe tbody tr th:only-of-type {\n",
       "        vertical-align: middle;\n",
       "    }\n",
       "\n",
       "    .dataframe tbody tr th {\n",
       "        vertical-align: top;\n",
       "    }\n",
       "\n",
       "    .dataframe thead th {\n",
       "        text-align: right;\n",
       "    }\n",
       "</style>\n",
       "<table border=\"1\" class=\"dataframe\">\n",
       "  <thead>\n",
       "    <tr style=\"text-align: right;\">\n",
       "      <th></th>\n",
       "      <th>id</th>\n",
       "      <th>dl_applied</th>\n",
       "      <th>win_by_runs</th>\n",
       "      <th>win_by_wickets</th>\n",
       "    </tr>\n",
       "  </thead>\n",
       "  <tbody>\n",
       "    <tr>\n",
       "      <th>id</th>\n",
       "      <td>1.000000</td>\n",
       "      <td>-0.011658</td>\n",
       "      <td>-0.039403</td>\n",
       "      <td>-0.012239</td>\n",
       "    </tr>\n",
       "    <tr>\n",
       "      <th>dl_applied</th>\n",
       "      <td>-0.011658</td>\n",
       "      <td>1.000000</td>\n",
       "      <td>-0.016349</td>\n",
       "      <td>-0.011631</td>\n",
       "    </tr>\n",
       "    <tr>\n",
       "      <th>win_by_runs</th>\n",
       "      <td>-0.039403</td>\n",
       "      <td>-0.016349</td>\n",
       "      <td>1.000000</td>\n",
       "      <td>-0.560420</td>\n",
       "    </tr>\n",
       "    <tr>\n",
       "      <th>win_by_wickets</th>\n",
       "      <td>-0.012239</td>\n",
       "      <td>-0.011631</td>\n",
       "      <td>-0.560420</td>\n",
       "      <td>1.000000</td>\n",
       "    </tr>\n",
       "  </tbody>\n",
       "</table>\n",
       "</div>"
      ],
      "text/plain": [
       "                      id  dl_applied  win_by_runs  win_by_wickets\n",
       "id              1.000000   -0.011658    -0.039403       -0.012239\n",
       "dl_applied     -0.011658    1.000000    -0.016349       -0.011631\n",
       "win_by_runs    -0.039403   -0.016349     1.000000       -0.560420\n",
       "win_by_wickets -0.012239   -0.011631    -0.560420        1.000000"
      ]
     },
     "execution_count": 9,
     "metadata": {},
     "output_type": "execute_result"
    }
   ],
   "source": [
    "df.corr(method='pearson', min_periods=1)"
   ]
  },
  {
   "cell_type": "markdown",
   "id": "a3b75eed",
   "metadata": {
    "papermill": {
     "duration": 0.03355,
     "end_time": "2021-12-28T15:04:57.885928",
     "exception": false,
     "start_time": "2021-12-28T15:04:57.852378",
     "status": "completed"
    },
    "tags": []
   },
   "source": [
    "- Missing values present in city,winner,player_of_match,umpire1,umpire2,umpire3\n",
    "- Since umpire3 ,umpire1, umpire2 ,date,city,,id have no use in our analysis.So,drop it."
   ]
  },
  {
   "cell_type": "code",
   "execution_count": 10,
   "id": "572f890b",
   "metadata": {
    "papermill": {
     "duration": 0.044978,
     "end_time": "2021-12-28T15:04:58.043740",
     "exception": false,
     "start_time": "2021-12-28T15:04:57.998762",
     "status": "completed"
    },
    "tags": []
   },
   "outputs": [],
   "source": [
    "df.drop(columns={'umpire3','umpire1','umpire2','date','city','id'},inplace=True)"
   ]
  },
  {
   "cell_type": "code",
   "execution_count": 11,
   "id": "40d83757",
   "metadata": {
    "papermill": {
     "duration": 0.044196,
     "end_time": "2021-12-28T15:04:57.964462",
     "exception": false,
     "start_time": "2021-12-28T15:04:57.920266",
     "status": "completed"
    },
    "tags": []
   },
   "outputs": [],
   "source": [
    "# Filling missing values\n",
    "df['winner']=df['winner'].fillna('Rising Pune Supergiants')\n",
    "df['player_of_match']=df['player_of_match'].fillna('CH Gayle')\n"
   ]
  },
  {
   "cell_type": "code",
   "execution_count": 12,
   "id": "236e3b75",
   "metadata": {
    "papermill": {
     "duration": 0.048551,
     "end_time": "2021-12-28T15:04:58.125951",
     "exception": false,
     "start_time": "2021-12-28T15:04:58.077400",
     "status": "completed"
    },
    "tags": []
   },
   "outputs": [
    {
     "data": {
      "text/plain": [
       "0"
      ]
     },
     "execution_count": 12,
     "metadata": {},
     "output_type": "execute_result"
    }
   ],
   "source": [
    "df.duplicated().sum()"
   ]
  },
  {
   "cell_type": "code",
   "execution_count": 13,
   "id": "3e020a13",
   "metadata": {
    "papermill": {
     "duration": 0.055307,
     "end_time": "2021-12-28T15:04:58.215030",
     "exception": false,
     "start_time": "2021-12-28T15:04:58.159723",
     "status": "completed"
    },
    "tags": []
   },
   "outputs": [
    {
     "data": {
      "text/html": [
       "<div>\n",
       "<style scoped>\n",
       "    .dataframe tbody tr th:only-of-type {\n",
       "        vertical-align: middle;\n",
       "    }\n",
       "\n",
       "    .dataframe tbody tr th {\n",
       "        vertical-align: top;\n",
       "    }\n",
       "\n",
       "    .dataframe thead th {\n",
       "        text-align: right;\n",
       "    }\n",
       "</style>\n",
       "<table border=\"1\" class=\"dataframe\">\n",
       "  <thead>\n",
       "    <tr style=\"text-align: right;\">\n",
       "      <th></th>\n",
       "      <th>Season</th>\n",
       "      <th>team1</th>\n",
       "      <th>team2</th>\n",
       "      <th>toss_winner</th>\n",
       "      <th>toss_decision</th>\n",
       "      <th>result</th>\n",
       "      <th>dl_applied</th>\n",
       "      <th>winner</th>\n",
       "      <th>win_by_runs</th>\n",
       "      <th>win_by_wickets</th>\n",
       "      <th>player_of_match</th>\n",
       "      <th>venue</th>\n",
       "    </tr>\n",
       "  </thead>\n",
       "  <tbody>\n",
       "    <tr>\n",
       "      <th>0</th>\n",
       "      <td>IPL-2017</td>\n",
       "      <td>Sunrisers Hyderabad</td>\n",
       "      <td>Royal Challengers Bangalore</td>\n",
       "      <td>Royal Challengers Bangalore</td>\n",
       "      <td>field</td>\n",
       "      <td>normal</td>\n",
       "      <td>0</td>\n",
       "      <td>Sunrisers Hyderabad</td>\n",
       "      <td>35</td>\n",
       "      <td>0</td>\n",
       "      <td>Yuvraj Singh</td>\n",
       "      <td>Rajiv Gandhi International Stadium, Uppal</td>\n",
       "    </tr>\n",
       "    <tr>\n",
       "      <th>1</th>\n",
       "      <td>IPL-2017</td>\n",
       "      <td>Mumbai Indians</td>\n",
       "      <td>Rising Pune Supergiant</td>\n",
       "      <td>Rising Pune Supergiant</td>\n",
       "      <td>field</td>\n",
       "      <td>normal</td>\n",
       "      <td>0</td>\n",
       "      <td>Rising Pune Supergiant</td>\n",
       "      <td>0</td>\n",
       "      <td>7</td>\n",
       "      <td>SPD Smith</td>\n",
       "      <td>Maharashtra Cricket Association Stadium</td>\n",
       "    </tr>\n",
       "    <tr>\n",
       "      <th>2</th>\n",
       "      <td>IPL-2017</td>\n",
       "      <td>Gujarat Lions</td>\n",
       "      <td>Kolkata Knight Riders</td>\n",
       "      <td>Kolkata Knight Riders</td>\n",
       "      <td>field</td>\n",
       "      <td>normal</td>\n",
       "      <td>0</td>\n",
       "      <td>Kolkata Knight Riders</td>\n",
       "      <td>0</td>\n",
       "      <td>10</td>\n",
       "      <td>CA Lynn</td>\n",
       "      <td>Saurashtra Cricket Association Stadium</td>\n",
       "    </tr>\n",
       "    <tr>\n",
       "      <th>3</th>\n",
       "      <td>IPL-2017</td>\n",
       "      <td>Rising Pune Supergiant</td>\n",
       "      <td>Kings XI Punjab</td>\n",
       "      <td>Kings XI Punjab</td>\n",
       "      <td>field</td>\n",
       "      <td>normal</td>\n",
       "      <td>0</td>\n",
       "      <td>Kings XI Punjab</td>\n",
       "      <td>0</td>\n",
       "      <td>6</td>\n",
       "      <td>GJ Maxwell</td>\n",
       "      <td>Holkar Cricket Stadium</td>\n",
       "    </tr>\n",
       "    <tr>\n",
       "      <th>4</th>\n",
       "      <td>IPL-2017</td>\n",
       "      <td>Royal Challengers Bangalore</td>\n",
       "      <td>Delhi Daredevils</td>\n",
       "      <td>Royal Challengers Bangalore</td>\n",
       "      <td>bat</td>\n",
       "      <td>normal</td>\n",
       "      <td>0</td>\n",
       "      <td>Royal Challengers Bangalore</td>\n",
       "      <td>15</td>\n",
       "      <td>0</td>\n",
       "      <td>KM Jadhav</td>\n",
       "      <td>M Chinnaswamy Stadium</td>\n",
       "    </tr>\n",
       "  </tbody>\n",
       "</table>\n",
       "</div>"
      ],
      "text/plain": [
       "     Season                        team1                        team2  \\\n",
       "0  IPL-2017          Sunrisers Hyderabad  Royal Challengers Bangalore   \n",
       "1  IPL-2017               Mumbai Indians       Rising Pune Supergiant   \n",
       "2  IPL-2017                Gujarat Lions        Kolkata Knight Riders   \n",
       "3  IPL-2017       Rising Pune Supergiant              Kings XI Punjab   \n",
       "4  IPL-2017  Royal Challengers Bangalore             Delhi Daredevils   \n",
       "\n",
       "                   toss_winner toss_decision  result  dl_applied  \\\n",
       "0  Royal Challengers Bangalore         field  normal           0   \n",
       "1       Rising Pune Supergiant         field  normal           0   \n",
       "2        Kolkata Knight Riders         field  normal           0   \n",
       "3              Kings XI Punjab         field  normal           0   \n",
       "4  Royal Challengers Bangalore           bat  normal           0   \n",
       "\n",
       "                        winner  win_by_runs  win_by_wickets player_of_match  \\\n",
       "0          Sunrisers Hyderabad           35               0    Yuvraj Singh   \n",
       "1       Rising Pune Supergiant            0               7       SPD Smith   \n",
       "2        Kolkata Knight Riders            0              10         CA Lynn   \n",
       "3              Kings XI Punjab            0               6      GJ Maxwell   \n",
       "4  Royal Challengers Bangalore           15               0       KM Jadhav   \n",
       "\n",
       "                                       venue  \n",
       "0  Rajiv Gandhi International Stadium, Uppal  \n",
       "1    Maharashtra Cricket Association Stadium  \n",
       "2     Saurashtra Cricket Association Stadium  \n",
       "3                     Holkar Cricket Stadium  \n",
       "4                      M Chinnaswamy Stadium  "
      ]
     },
     "execution_count": 13,
     "metadata": {},
     "output_type": "execute_result"
    }
   ],
   "source": [
    "df.head()"
   ]
  },
  {
   "cell_type": "markdown",
   "id": "fd5f6ede",
   "metadata": {
    "papermill": {
     "duration": 0.034527,
     "end_time": "2021-12-28T15:04:58.283987",
     "exception": false,
     "start_time": "2021-12-28T15:04:58.249460",
     "status": "completed"
    },
    "tags": []
   },
   "source": [
    "**Checking Consistency in names of team**"
   ]
  },
  {
   "cell_type": "code",
   "execution_count": 14,
   "id": "f406d1a3",
   "metadata": {
    "papermill": {
     "duration": 0.043309,
     "end_time": "2021-12-28T15:04:58.361786",
     "exception": false,
     "start_time": "2021-12-28T15:04:58.318477",
     "status": "completed"
    },
    "tags": []
   },
   "outputs": [],
   "source": [
    "df['winner']=df['winner'].replace('Rising Pune Supergiant','Rising Pune Supergiants')\n"
   ]
  },
  {
   "cell_type": "markdown",
   "id": "970e0750",
   "metadata": {
    "papermill": {
     "duration": 0.034263,
     "end_time": "2021-12-28T15:04:58.430411",
     "exception": false,
     "start_time": "2021-12-28T15:04:58.396148",
     "status": "completed"
    },
    "tags": []
   },
   "source": [
    "# `EDA`"
   ]
  },
  {
   "cell_type": "markdown",
   "id": "e86134d6",
   "metadata": {
    "papermill": {
     "duration": 0.035901,
     "end_time": "2021-12-28T15:04:58.501013",
     "exception": false,
     "start_time": "2021-12-28T15:04:58.465112",
     "status": "completed"
    },
    "tags": []
   },
   "source": [
    "**Number of Matches played in each Season**"
   ]
  },
  {
   "cell_type": "code",
   "execution_count": 15,
   "id": "9d18fe59",
   "metadata": {
    "papermill": {
     "duration": 0.330031,
     "end_time": "2021-12-28T15:04:58.865526",
     "exception": false,
     "start_time": "2021-12-28T15:04:58.535495",
     "status": "completed"
    },
    "tags": []
   },
   "outputs": [
    {
     "data": {
      "image/png": "[encoded data removed]",
      "text/plain": [
       "<Figure size 864x360 with 1 Axes>"
      ]
     },
     "metadata": {
      "needs_background": "light"
     },
     "output_type": "display_data"
    }
   ],
   "source": [
    "plt.figure(figsize=(12,5));\n",
    "sns.countplot(x=df['Season'],order=df['Season'].value_counts().index.sort_values());\n",
    "plt.xlabel('Season',fontsize=12);\n",
    "plt.ylabel('No: of matches',fontsize=12);\n",
    "plt.title('Number of Matches  vs  Season',fontsize=16);"
   ]
  },
  {
   "cell_type": "markdown",
   "id": "2f5e6b4d",
   "metadata": {
    "papermill": {
     "duration": 0.036488,
     "end_time": "2021-12-28T15:04:58.938238",
     "exception": false,
     "start_time": "2021-12-28T15:04:58.901750",
     "status": "completed"
    },
    "tags": []
   },
   "source": [
    "**Number of matches won by the teams**"
   ]
  },
  {
   "cell_type": "code",
   "execution_count": 16,
   "id": "ff4608d0",
   "metadata": {
    "papermill": {
     "duration": 0.36258,
     "end_time": "2021-12-28T15:04:59.336994",
     "exception": false,
     "start_time": "2021-12-28T15:04:58.974414",
     "status": "completed"
    },
    "tags": []
   },
   "outputs": [
    {
     "data": {
      "image/png": "[encoded data removed]",
      "text/plain": [
       "<Figure size 864x360 with 1 Axes>"
      ]
     },
     "metadata": {
      "needs_background": "light"
     },
     "output_type": "display_data"
    }
   ],
   "source": [
    "plt.figure(figsize=(12,5));\n",
    "sns.countplot(x=df['winner'],order=df['winner'].value_counts().index.sort_values(),palette='dark');\n",
    "plt.xticks(rotation='vertical');\n",
    "plt.xlabel('Teams',fontsize=12);\n",
    "plt.ylabel('No: of matches won',fontsize=12);\n",
    "plt.title('Number of Matches won  vs  Teams',fontsize=16);"
   ]
  },
  {
   "cell_type": "markdown",
   "id": "e106bb80",
   "metadata": {
    "papermill": {
     "duration": 0.040458,
     "end_time": "2021-12-28T15:04:59.414925",
     "exception": false,
     "start_time": "2021-12-28T15:04:59.374467",
     "status": "completed"
    },
    "tags": []
   },
   "source": [
    "- MI wons maximum number of matches including all the seasons"
   ]
  },
  {
   "cell_type": "markdown",
   "id": "0d08861b",
   "metadata": {
    "papermill": {
     "duration": 0.037021,
     "end_time": "2021-12-28T15:04:59.489677",
     "exception": false,
     "start_time": "2021-12-28T15:04:59.452656",
     "status": "completed"
    },
    "tags": []
   },
   "source": [
    "**Toss_Decision**"
   ]
  },
  {
   "cell_type": "code",
   "execution_count": 17,
   "id": "cfb16c9c",
   "metadata": {
    "papermill": {
     "duration": 0.137027,
     "end_time": "2021-12-28T15:04:59.664988",
     "exception": false,
     "start_time": "2021-12-28T15:04:59.527961",
     "status": "completed"
    },
    "tags": []
   },
   "outputs": [
    {
     "data": {
      "image/png": "[encoded data removed]",
      "text/plain": [
       "<Figure size 864x360 with 1 Axes>"
      ]
     },
     "metadata": {},
     "output_type": "display_data"
    }
   ],
   "source": [
    "\n",
    "plt.figure(figsize=(12,5));\n",
    "plt.pie(df['toss_decision'].value_counts(),\n",
    "        labels=df['toss_decision'].value_counts().index,autopct='%1.2f%%');"
   ]
  },
  {
   "cell_type": "markdown",
   "id": "ee6af87f",
   "metadata": {
    "papermill": {
     "duration": 0.037641,
     "end_time": "2021-12-28T15:04:59.741518",
     "exception": false,
     "start_time": "2021-12-28T15:04:59.703877",
     "status": "completed"
    },
    "tags": []
   },
   "source": [
    "- 61.24% times teams choses field after winning the toss"
   ]
  },
  {
   "cell_type": "markdown",
   "id": "cf4def25",
   "metadata": {
    "papermill": {
     "duration": 0.037835,
     "end_time": "2021-12-28T15:04:59.818165",
     "exception": false,
     "start_time": "2021-12-28T15:04:59.780330",
     "status": "completed"
    },
    "tags": []
   },
   "source": [
    "**Venue Of Matches**"
   ]
  },
  {
   "cell_type": "code",
   "execution_count": 18,
   "id": "7e0039a8",
   "metadata": {
    "papermill": {
     "duration": 0.348256,
     "end_time": "2021-12-28T15:05:00.204486",
     "exception": false,
     "start_time": "2021-12-28T15:04:59.856230",
     "status": "completed"
    },
    "tags": []
   },
   "outputs": [
    {
     "data": {
      "image/png": "[encoded data removed]",
      "text/plain": [
       "<Figure size 864x360 with 1 Axes>"
      ]
     },
     "metadata": {
      "needs_background": "light"
     },
     "output_type": "display_data"
    }
   ],
   "source": [
    "plt.figure(figsize=(12,5));\n",
    "sns.countplot(y=df['venue'],order=df['venue'].value_counts().index[0:10],palette='deep');\n",
    "plt.xlabel('Match_count',fontsize=12);\n",
    "plt.ylabel('Stadiums',fontsize=12);\n",
    "plt.title('Number of Matches Played vs  Stadiums',fontsize=16);"
   ]
  },
  {
   "cell_type": "markdown",
   "id": "226381fb",
   "metadata": {
    "papermill": {
     "duration": 0.039797,
     "end_time": "2021-12-28T15:05:00.284224",
     "exception": false,
     "start_time": "2021-12-28T15:05:00.244427",
     "status": "completed"
    },
    "tags": []
   },
   "source": [
    "- Most of the matches played in Eden Gardens and Feroz Shah Kotla"
   ]
  },
  {
   "cell_type": "code",
   "execution_count": 19,
   "id": "09e8379d",
   "metadata": {
    "papermill": {
     "duration": 0.055869,
     "end_time": "2021-12-28T15:05:00.380308",
     "exception": false,
     "start_time": "2021-12-28T15:05:00.324439",
     "status": "completed"
    },
    "tags": []
   },
   "outputs": [
    {
     "data": {
      "text/plain": [
       "Index(['Mumbai Indians', 'Chennai Super Kings', 'Kings XI Punjab',\n",
       "       'Kolkata Knight Riders', 'Royal Challengers Bangalore'],\n",
       "      dtype='object')"
      ]
     },
     "execution_count": 19,
     "metadata": {},
     "output_type": "execute_result"
    }
   ],
   "source": [
    "batting_first=df[df['win_by_runs']!=0]\n",
    "batting_first['winner'].value_counts()[0:5]\n",
    "df[df['win_by_runs']!=0]['winner'].value_counts().index[0:5]"
   ]
  },
  {
   "cell_type": "markdown",
   "id": "e6830da0",
   "metadata": {
    "papermill": {
     "duration": 0.040142,
     "end_time": "2021-12-28T15:05:00.460355",
     "exception": false,
     "start_time": "2021-12-28T15:05:00.420213",
     "status": "completed"
    },
    "tags": []
   },
   "source": [
    "**Batting_first**"
   ]
  },
  {
   "cell_type": "code",
   "execution_count": 20,
   "id": "07bfcb7a",
   "metadata": {
    "papermill": {
     "duration": 0.278572,
     "end_time": "2021-12-28T15:05:00.778958",
     "exception": false,
     "start_time": "2021-12-28T15:05:00.500386",
     "status": "completed"
    },
    "tags": []
   },
   "outputs": [
    {
     "data": {
      "image/png": "[encoded data removed]",
      "text/plain": [
       "<Figure size 576x288 with 1 Axes>"
      ]
     },
     "metadata": {
      "needs_background": "light"
     },
     "output_type": "display_data"
    }
   ],
   "source": [
    "plt.figure(figsize=(8,4));\n",
    "sns.barplot(x=df[df['win_by_runs']!=0]['winner'].value_counts().index[0:5],\n",
    "                                    y=batting_first['winner'].value_counts()[0:5],palette='CMRmap');\n",
    "\n",
    "plt.xticks(rotation='vertical');\n",
    "plt.xlabel('Teams',fontsize=12);\n",
    "plt.ylabel('Winner',fontsize=12);\n",
    "plt.title('Teams vs won_during_bat_first',fontsize=14);"
   ]
  },
  {
   "cell_type": "markdown",
   "id": "82ec78a5",
   "metadata": {
    "papermill": {
     "duration": 0.041051,
     "end_time": "2021-12-28T15:05:00.861453",
     "exception": false,
     "start_time": "2021-12-28T15:05:00.820402",
     "status": "completed"
    },
    "tags": []
   },
   "source": [
    "- Mumbai Indians won maximum number of matches,when they bat first"
   ]
  },
  {
   "cell_type": "code",
   "execution_count": 21,
   "id": "bdfc7e4a",
   "metadata": {
    "papermill": {
     "duration": 0.054418,
     "end_time": "2021-12-28T15:05:00.957392",
     "exception": false,
     "start_time": "2021-12-28T15:05:00.902974",
     "status": "completed"
    },
    "tags": []
   },
   "outputs": [
    {
     "data": {
      "text/plain": [
       "Index(['Kolkata Knight Riders', 'Mumbai Indians',\n",
       "       'Royal Challengers Bangalore', 'Chennai Super Kings',\n",
       "       'Rajasthan Royals'],\n",
       "      dtype='object')"
      ]
     },
     "execution_count": 21,
     "metadata": {},
     "output_type": "execute_result"
    }
   ],
   "source": [
    "batting_Second=df[df['win_by_wickets']!=0]\n",
    "batting_Second['winner'].value_counts()[0:5]\n",
    "df[df['win_by_wickets']!=0]['winner'].value_counts().index[0:5]\n"
   ]
  },
  {
   "cell_type": "markdown",
   "id": "1c723641",
   "metadata": {
    "papermill": {
     "duration": 0.041444,
     "end_time": "2021-12-28T15:05:01.040872",
     "exception": false,
     "start_time": "2021-12-28T15:05:00.999428",
     "status": "completed"
    },
    "tags": []
   },
   "source": [
    "**Batting_Second**"
   ]
  },
  {
   "cell_type": "code",
   "execution_count": 22,
   "id": "83ec488e",
   "metadata": {
    "papermill": {
     "duration": 0.274717,
     "end_time": "2021-12-28T15:05:01.359649",
     "exception": false,
     "start_time": "2021-12-28T15:05:01.084932",
     "status": "completed"
    },
    "tags": []
   },
   "outputs": [
    {
     "data": {
      "image/png": "[encoded data removed]",
      "text/plain": [
       "<Figure size 576x288 with 1 Axes>"
      ]
     },
     "metadata": {
      "needs_background": "light"
     },
     "output_type": "display_data"
    }
   ],
   "source": [
    "plt.figure(figsize=(8,4));\n",
    "sns.barplot(x=df[df['win_by_wickets']!=0]['winner'].value_counts().index[0:5],\n",
    "                                    y=batting_Second['winner'].value_counts()[0:5],palette='rainbow');\n",
    "\n",
    "plt.xticks(rotation='vertical');\n",
    "plt.xlabel('Teams',fontsize=12);\n",
    "plt.ylabel('Winner',fontsize=12);\n",
    "plt.title('Teams vs won_during_Chasing',fontsize=14);"
   ]
  },
  {
   "cell_type": "markdown",
   "id": "99ed8811",
   "metadata": {
    "papermill": {
     "duration": 0.043081,
     "end_time": "2021-12-28T15:05:01.445861",
     "exception": false,
     "start_time": "2021-12-28T15:05:01.402780",
     "status": "completed"
    },
    "tags": []
   },
   "source": [
    "- KKR won maximum number of matches while chasing."
   ]
  },
  {
   "cell_type": "markdown",
   "id": "42ed0a6e",
   "metadata": {
    "papermill": {
     "duration": 0.042852,
     "end_time": "2021-12-28T15:05:01.531729",
     "exception": false,
     "start_time": "2021-12-28T15:05:01.488877",
     "status": "completed"
    },
    "tags": []
   },
   "source": [
    "**Player_of_match**"
   ]
  },
  {
   "cell_type": "code",
   "execution_count": 23,
   "id": "4757e8ab",
   "metadata": {
    "papermill": {
     "duration": 0.305171,
     "end_time": "2021-12-28T15:05:01.880200",
     "exception": false,
     "start_time": "2021-12-28T15:05:01.575029",
     "status": "completed"
    },
    "tags": []
   },
   "outputs": [
    {
     "data": {
      "image/png": "[encoded data removed]",
      "text/plain": [
       "<Figure size 864x360 with 1 Axes>"
      ]
     },
     "metadata": {
      "needs_background": "light"
     },
     "output_type": "display_data"
    }
   ],
   "source": [
    "plt.figure(figsize=(12,5));\n",
    "sns.countplot(y=df['player_of_match'],order=df['player_of_match'].value_counts().index[0:10],palette='magma');\n",
    "plt.xlabel('Player_of_match_count',fontsize=12);\n",
    "plt.ylabel('Players',fontsize=12);\n",
    "plt.title('Player_of_match vs Players',fontsize=16);"
   ]
  },
  {
   "cell_type": "markdown",
   "id": "365e7c13",
   "metadata": {
    "papermill": {
     "duration": 0.044279,
     "end_time": "2021-12-28T15:05:01.968775",
     "exception": false,
     "start_time": "2021-12-28T15:05:01.924496",
     "status": "completed"
    },
    "tags": []
   },
   "source": [
    "- Chris Gayle and AB de Villers won most of the player of match titles including all seasons."
   ]
  }
 ],
 "metadata": {
  "kernelspec": {
   "display_name": "Python 3 (ipykernel)",
   "language": "python",
   "name": "python3"
  },
  "language_info": {
   "codemirror_mode": {
    "name": "ipython",
    "version": 3
   },
   "file_extension": ".py",
   "mimetype": "text/x-python",
   "name": "python",
   "nbconvert_exporter": "python",
   "pygments_lexer": "ipython3",
   "version": "3.9.7"
  },
  "papermill": {
   "default_parameters": {},
   "duration": 18.058135,
   "end_time": "2021-12-28T15:05:02.813206",
   "environment_variables": {},
   "exception": null,
   "input_path": "__notebook__.ipynb",
   "output_path": "__notebook__.ipynb",
   "parameters": {},
   "start_time": "2021-12-28T15:04:44.755071",
   "version": "2.3.3"
  }
 },
 "nbformat": 4,
 "nbformat_minor": 5
}
